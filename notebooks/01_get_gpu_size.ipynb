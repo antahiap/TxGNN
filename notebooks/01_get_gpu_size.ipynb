{
 "cells": [
  {
   "cell_type": "code",
   "execution_count": 15,
   "metadata": {},
   "outputs": [],
   "source": [
    "import pandas as pd\n",
    "\n",
    "# Specify the input and output CSV file paths\n",
    "input_csv_file = '../data/train_data/edges.csv'  # Replace with your input file path\n",
    "output_csv_file = '../data/small_100/edges.csv'  # Replace with your desired output file path\n",
    "\n",
    "# Read the first 100 lines of the CSV file\n",
    "data = pd.read_csv(input_csv_file, nrows=100)\n",
    "\n",
    "# Save the first 100 lines to a new CSV file\n",
    "data.to_csv(output_csv_file, index=False)"
   ]
  },
  {
   "cell_type": "code",
   "execution_count": 18,
   "metadata": {},
   "outputs": [
    {
     "name": "stdout",
     "output_type": "stream",
     "text": [
      "Found local copy...\n",
      "Found local copy...\n",
      "Found local copy...\n",
      "Found saved processed KG... Loading...\n"
     ]
    },
    {
     "name": "stdout",
     "output_type": "stream",
     "text": [
      "Splits detected... Loading splits....\n",
      "Creating DGL graph....\n",
      "Done!\n"
     ]
    }
   ],
   "source": [
    "import _path\n",
    "from txgnn import TxData, TxGNN, TxEval\n",
    "\n",
    "Tx_data = TxData(data_folder_path = '../data/train_data')\n",
    "Tx_data.prepare_split(split = 'complex_disease', seed = 42, no_kg = False)\n",
    "\n",
    "TxGNN = TxGNN(data = Tx_data, \n",
    "          weight_bias_track = False,\n",
    "          proj_name = 'TxGNN',\n",
    "          exp_name = 'TxGNN',\n",
    "          #device='cpu'\n",
    "          )\n"
   ]
  },
  {
   "cell_type": "code",
   "execution_count": 23,
   "metadata": {},
   "outputs": [
    {
     "name": "stdout",
     "output_type": "stream",
     "text": [
      "../models/checkpoints_all_seeds/TxGNN_5_cell_proliferation\n",
      "../models/checkpoints_all_seeds/TxGNN_1_anemia\n",
      "../models/checkpoints_all_seeds/TxGNN_3_complex_disease\n",
      "../models/checkpoints_all_seeds/TxGNN_3_adrenal_gland\n",
      "../models/checkpoints_all_seeds/TxGNN_5_anemia\n",
      "../models/checkpoints_all_seeds/TxGNN_5_metabolic_disorder\n",
      "../models/checkpoints_all_seeds/TxGNN_2_neurodigenerative\n",
      "../models/checkpoints_all_seeds/TxGNN_2_anemia\n",
      "../models/checkpoints_all_seeds/TxGNN_2_cardiovascular\n",
      "../models/checkpoints_all_seeds/TxGNN_1_complex_disease\n",
      "../models/checkpoints_all_seeds/TxGNN_4_anemia\n",
      "../models/checkpoints_all_seeds/TxGNN_4_cardiovascular\n",
      "../models/checkpoints_all_seeds/TxGNN_4_mental_health\n",
      "../models/checkpoints_all_seeds/TxGNN_4_neurodigenerative\n",
      "../models/checkpoints_all_seeds/TxGNN_2_metabolic_disorder\n",
      "../models/checkpoints_all_seeds/TxGNN_1_cardiovascular\n",
      "../models/checkpoints_all_seeds/TxGNN_3_autoimmune\n",
      "../models/checkpoints_all_seeds/TxGNN_3_anemia\n",
      "../models/checkpoints_all_seeds/TxGNN_2_adrenal_gland\n",
      "../models/checkpoints_all_seeds/TxGNN_3_neurodigenerative\n",
      "../models/checkpoints_all_seeds/TxGNN_4_random\n",
      "../models/checkpoints_all_seeds/TxGNN_1_random\n",
      "../models/checkpoints_all_seeds/TxGNN_3_cardiovascular\n",
      "../models/checkpoints_all_seeds/TxGNN_5_neurodigenerative\n",
      "../models/checkpoints_all_seeds/TxGNN_1_autoimmune\n",
      "../models/checkpoints_all_seeds/TxGNN_5_random\n",
      "../models/checkpoints_all_seeds/TxGNN_2_random\n",
      "../models/checkpoints_all_seeds/TxGNN_5_mental_health\n",
      "../models/checkpoints_all_seeds/TxGNN_1_metabolic_disorder\n",
      "../models/checkpoints_all_seeds/TxGNN_5_adrenal_gland\n",
      "../models/checkpoints_all_seeds/TxGNN_3_random\n",
      "../models/checkpoints_all_seeds/TxGNN_2_autoimmune\n",
      "../models/checkpoints_all_seeds/TxGNN_1_neurodigenerative\n",
      "../models/checkpoints_all_seeds/TxGNN_3_cell_proliferation\n",
      "../models/checkpoints_all_seeds/TxGNN_4_metabolic_disorder\n",
      "../models/checkpoints_all_seeds/TxGNN_3_metabolic_disorder\n",
      "../models/checkpoints_all_seeds/TxGNN_5_diabetes\n",
      "../models/checkpoints_all_seeds/TxGNN_1_cell_proliferation\n",
      "../models/checkpoints_all_seeds/TxGNN_2_diabetes\n",
      "../models/checkpoints_all_seeds/TxGNN_4_autoimmune\n",
      "../models/checkpoints_all_seeds/TxGNN_4_diabetes\n",
      "../models/checkpoints_all_seeds/TxGNN_3_mental_health\n",
      "../models/checkpoints_all_seeds/TxGNN_3_diabetes\n",
      "../models/checkpoints_all_seeds/TxGNN_4_complex_disease\n",
      "../models/checkpoints_all_seeds/TxGNN_2_complex_disease\n",
      "../models/checkpoints_all_seeds/TxGNN_1_diabetes\n",
      "../models/checkpoints_all_seeds/TxGNN_2_cell_proliferation\n",
      "../models/checkpoints_all_seeds/TxGNN_4_cell_proliferation\n",
      "../models/checkpoints_all_seeds/TxGNN_2_mental_health\n",
      "../models/checkpoints_all_seeds/TxGNN_4_adrenal_gland\n",
      "../models/checkpoints_all_seeds/TxGNN_5_cardiovascular\n",
      "../models/checkpoints_all_seeds/TxGNN_1_mental_health\n",
      "../models/checkpoints_all_seeds/TxGNN_1_adrenal_gland\n",
      "../models/checkpoints_all_seeds/TxGNN_5_complex_disease\n",
      "../models/checkpoints_all_seeds/TxGNN_5_autoimmune\n"
     ]
    }
   ],
   "source": [
    "#TxGNN.load_pretrained(f'./models_{split_name}_{seed_no}/')\n",
    "import glob\n",
    "models = glob.glob('../models/checkpoints_all_seeds/*')\n",
    "for m in models:\n",
    "    print(m)\n",
    "    try:\n",
    "        TxGNN.load_pretrained('../models/checkpoints_all_seeds/TxGNN_4_random')\n",
    "\n",
    "        # Get model architecture\n",
    "        print(TxGNN.graphmask_model)\n",
    "\n",
    "        # Get model parameters\n",
    "        for name, param in TxGNN.model.named_parameters():\n",
    "            print(f'Parameter: {name}, Shape: {param.data.shape}')\n",
    "    except AttributeError:\n",
    "        pass"
   ]
  },
  {
   "cell_type": "code",
   "execution_count": 3,
   "metadata": {},
   "outputs": [
    {
     "name": "stdout",
     "output_type": "stream",
     "text": [
      "Number of parameters in the model: 1015000\n"
     ]
    }
   ],
   "source": [
    "def count_parameters(model):\n",
    "    return sum(p.numel() for p in model.parameters() if p.requires_grad)\n",
    "\n",
    "num_params = count_parameters(TxGNN.model)\n",
    "print(f'Number of parameters in the model: {num_params}')"
   ]
  },
  {
   "cell_type": "code",
   "execution_count": 4,
   "metadata": {},
   "outputs": [
    {
     "name": "stdout",
     "output_type": "stream",
     "text": [
      "Number of nodes: 129312\n",
      "Number of edges: 6735722\n"
     ]
    }
   ],
   "source": [
    "\n",
    "num_nodes = TxGNN.G.number_of_nodes()\n",
    "print(f'Number of nodes: {num_nodes}')\n",
    "num_edges = TxGNN.G.number_of_edges()\n",
    "print(f'Number of edges: {num_edges}')"
   ]
  },
  {
   "cell_type": "code",
   "execution_count": 5,
   "metadata": {},
   "outputs": [
    {
     "name": "stdout",
     "output_type": "stream",
     "text": [
      "gate_hidden_size:  32\n",
      "Enabling layer 1\n",
      "Enabling layer 0\n"
     ]
    },
    {
     "ename": "UnboundLocalError",
     "evalue": "local variable 'epoch' referenced before assignment",
     "output_type": "error",
     "traceback": [
      "\u001b[0;31m---------------------------------------------------------------------------\u001b[0m",
      "\u001b[0;31mUnboundLocalError\u001b[0m                         Traceback (most recent call last)",
      "Cell \u001b[0;32mIn[5], line 1\u001b[0m\n\u001b[0;32m----> 1\u001b[0m \u001b[43mTxGNN\u001b[49m\u001b[38;5;241;43m.\u001b[39;49m\u001b[43mtrain_graphmask\u001b[49m\u001b[43m(\u001b[49m\u001b[43mrelation\u001b[49m\u001b[43m \u001b[49m\u001b[38;5;241;43m=\u001b[39;49m\u001b[43m \u001b[49m\u001b[38;5;124;43m'\u001b[39;49m\u001b[38;5;124;43mindication\u001b[39;49m\u001b[38;5;124;43m'\u001b[39;49m\u001b[43m,\u001b[49m\n\u001b[1;32m      2\u001b[0m \u001b[43m              \u001b[49m\u001b[43mlearning_rate\u001b[49m\u001b[43m \u001b[49m\u001b[38;5;241;43m=\u001b[39;49m\u001b[43m \u001b[49m\u001b[38;5;241;43m3e-4\u001b[39;49m\u001b[43m,\u001b[49m\n\u001b[1;32m      3\u001b[0m \u001b[43m              \u001b[49m\u001b[43mallowance\u001b[49m\u001b[43m \u001b[49m\u001b[38;5;241;43m=\u001b[39;49m\u001b[43m \u001b[49m\u001b[38;5;241;43m0.005\u001b[39;49m\u001b[43m,\u001b[49m\n\u001b[1;32m      4\u001b[0m \u001b[43m              \u001b[49m\u001b[43mepochs_per_layer\u001b[49m\u001b[43m \u001b[49m\u001b[38;5;241;43m=\u001b[39;49m\u001b[43m \u001b[49m\u001b[38;5;241;43m0\u001b[39;49m\u001b[43m,\u001b[49m\n\u001b[1;32m      5\u001b[0m \u001b[43m              \u001b[49m\u001b[43mpenalty_scaling\u001b[49m\u001b[43m \u001b[49m\u001b[38;5;241;43m=\u001b[39;49m\u001b[43m \u001b[49m\u001b[38;5;241;43m1\u001b[39;49m\u001b[43m,\u001b[49m\n\u001b[1;32m      6\u001b[0m \u001b[43m              \u001b[49m\u001b[43mvalid_per_n\u001b[49m\u001b[43m \u001b[49m\u001b[38;5;241;43m=\u001b[39;49m\u001b[43m \u001b[49m\u001b[38;5;241;43m20\u001b[39;49m\u001b[43m)\u001b[49m\n",
      "File \u001b[0;32m~/Repo/merck_gds_explr/submodules/TxGNN/txgnn/TxGNN.py:628\u001b[0m, in \u001b[0;36mTxGNN.train_graphmask\u001b[0;34m(self, relation, learning_rate, allowance, epochs_per_layer, penalty_scaling, moving_average_window_size, valid_per_n, no_base, gate_hidden_size)\u001b[0m\n\u001b[1;32m    624\u001b[0m                 best_loss_sum \u001b[38;5;241m=\u001b[39m loss_sum\n\u001b[1;32m    625\u001b[0m                 \u001b[38;5;28mself\u001b[39m\u001b[38;5;241m.\u001b[39mbest_graphmask_model \u001b[38;5;241m=\u001b[39m copy\u001b[38;5;241m.\u001b[39mdeepcopy(\u001b[38;5;28mself\u001b[39m\u001b[38;5;241m.\u001b[39mgraphmask_model)\n\u001b[0;32m--> 628\u001b[0m loss_sum, metrics \u001b[38;5;241m=\u001b[39m evaluate_graphmask(\u001b[38;5;28mself\u001b[39m\u001b[38;5;241m.\u001b[39mbest_graphmask_model, \u001b[38;5;28mself\u001b[39m\u001b[38;5;241m.\u001b[39mG, \u001b[38;5;28mself\u001b[39m\u001b[38;5;241m.\u001b[39mg_test_pos, \u001b[38;5;28mself\u001b[39m\u001b[38;5;241m.\u001b[39mg_test_neg, relation, \u001b[43mepoch\u001b[49m, mode \u001b[38;5;241m=\u001b[39m \u001b[38;5;124m'\u001b[39m\u001b[38;5;124mtesting\u001b[39m\u001b[38;5;124m'\u001b[39m, allowance \u001b[38;5;241m=\u001b[39m allowance, penalty_scaling \u001b[38;5;241m=\u001b[39m penalty_scaling, etypes_train \u001b[38;5;241m=\u001b[39m etypes_train, device \u001b[38;5;241m=\u001b[39m \u001b[38;5;28mself\u001b[39m\u001b[38;5;241m.\u001b[39mdevice, weight_bias_track \u001b[38;5;241m=\u001b[39m \u001b[38;5;28mself\u001b[39m\u001b[38;5;241m.\u001b[39mweight_bias_track, wandb \u001b[38;5;241m=\u001b[39m \u001b[38;5;28mself\u001b[39m\u001b[38;5;241m.\u001b[39mwandb, no_base \u001b[38;5;241m=\u001b[39m no_base)\n\u001b[1;32m    630\u001b[0m \u001b[38;5;28;01mif\u001b[39;00m \u001b[38;5;28mself\u001b[39m\u001b[38;5;241m.\u001b[39mweight_bias_track \u001b[38;5;241m==\u001b[39m \u001b[38;5;124m'\u001b[39m\u001b[38;5;124mTrue\u001b[39m\u001b[38;5;124m'\u001b[39m:\n\u001b[1;32m    631\u001b[0m     \u001b[38;5;28mself\u001b[39m\u001b[38;5;241m.\u001b[39mwandb\u001b[38;5;241m.\u001b[39mlog(metrics)\n",
      "\u001b[0;31mUnboundLocalError\u001b[0m: local variable 'epoch' referenced before assignment"
     ]
    }
   ],
   "source": [
    "TxGNN.train_graphmask(relation = 'indication',\n",
    "              learning_rate = 3e-4,\n",
    "              allowance = 0.005,\n",
    "              epochs_per_layer = 0,\n",
    "              penalty_scaling = 1,\n",
    "              valid_per_n = 20)"
   ]
  },
  {
   "cell_type": "code",
   "execution_count": 7,
   "metadata": {},
   "outputs": [
    {
     "name": "stdout",
     "output_type": "stream",
     "text": [
      "Number of parameters in the model: 669300\n"
     ]
    }
   ],
   "source": [
    "GM_num_params = count_parameters(TxGNN.graphmask_model)\n",
    "print(f'Number of parameters in the model: {GM_num_params}')"
   ]
  },
  {
   "cell_type": "code",
   "execution_count": 8,
   "metadata": {},
   "outputs": [
    {
     "name": "stdout",
     "output_type": "stream",
     "text": [
      "Total memory requirement: 28.74 MB\n"
     ]
    }
   ],
   "source": [
    "batch_size = 1\n",
    "features_size = 1\n",
    "memory_for_params = (GM_num_params * 4) / (1024 * 1024)  # Memory in MB\n",
    "\n",
    "# Calculate memory for activations (simplified estimate)\n",
    "memory_for_activations = batch_size * (num_nodes + num_edges) * features_size * 4 / (1024 * 1024)  # Memory in MB\n",
    "\n",
    "# Total memory requirement\n",
    "total_memory = memory_for_params + memory_for_activations\n",
    "print(f'Total memory requirement: {total_memory:.2f} MB')"
   ]
  }
 ],
 "metadata": {
  "kernelspec": {
   "display_name": "Python 3",
   "language": "python",
   "name": "python3"
  },
  "language_info": {
   "codemirror_mode": {
    "name": "ipython",
    "version": 3
   },
   "file_extension": ".py",
   "mimetype": "text/x-python",
   "name": "python",
   "nbconvert_exporter": "python",
   "pygments_lexer": "ipython3",
   "version": "3.8.20"
  }
 },
 "nbformat": 4,
 "nbformat_minor": 2
}
