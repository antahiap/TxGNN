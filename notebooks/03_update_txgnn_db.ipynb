{
 "cells": [
  {
   "cell_type": "code",
   "execution_count": 1,
   "metadata": {},
   "outputs": [],
   "source": [
    "import json\n",
    "import pandas as pd\n",
    "import pickle\n",
    "from neo4j import GraphDatabase\n",
    "from dotenv import load_dotenv\n",
    "from sklearn.manifold import TSNE\n",
    "import os"
   ]
  },
  {
   "cell_type": "code",
   "execution_count": null,
   "metadata": {},
   "outputs": [],
   "source": [
    "\n",
    "env_path=\"../../../.env\"\n",
    "\n",
    "load_dotenv(os.path.abspath(env_path))\n",
    "uri = os.getenv(\"NEO4J_URI_TXGNN\")\n",
    "username = os.getenv(\"NEO4J_USERNAME_TXGNN\")\n",
    "password = os.getenv(\"NEO4J_PASSWORD_TXGNN\")\n",
    "database = os.getenv(\"NEO4J_DB_TXGNN\") \n",
    "\n",
    "driver = GraphDatabase.driver(uri, auth=(username, password))"
   ]
  },
  {
   "cell_type": "code",
   "execution_count": null,
   "metadata": {},
   "outputs": [],
   "source": [
    "\n",
    "env_path=\"../../../.env\"\n",
    "\n",
    "load_dotenv(os.path.abspath(env_path))\n",
    "uri = os.getenv(\"bolt://localhost:7687\")\n",
    "username = os.getenv(\"NEO4J_USERNAME\")\n",
    "password = os.getenv(\"NEO4J_PASSWORD\")\n",
    "database = \"neo4j\" \n",
    "\n",
    "driver_test = GraphDatabase.driver(uri, auth=(username, password))"
   ]
  },
  {
   "cell_type": "code",
   "execution_count": null,
   "metadata": {},
   "outputs": [],
   "source": [
    "\n",
    "def query_to_dataframe(database, driver, query):\n",
    "    with driver.session(database=database) as session:\n",
    "        result = session.run(query)\n",
    "        records = [record.data() for record in result]\n",
    "        return pd.DataFrame(records)"
   ]
  }
 ],
 "metadata": {
  "kernelspec": {
   "display_name": "Python 3",
   "language": "python",
   "name": "python3"
  },
  "language_info": {
   "codemirror_mode": {
    "name": "ipython",
    "version": 3
   },
   "file_extension": ".py",
   "mimetype": "text/x-python",
   "name": "python",
   "nbconvert_exporter": "python",
   "pygments_lexer": "ipython3",
   "version": "3.8.20"
  }
 },
 "nbformat": 4,
 "nbformat_minor": 2
}
